{
 "cells": [
  {
   "cell_type": "markdown",
   "metadata": {},
   "source": [
    "---\n",
    "\n",
    "_You are currently looking at **version 1.2** of this notebook. To download notebooks and datafiles, as well as get help on Jupyter notebooks in the Coursera platform, visit the [Jupyter Notebook FAQ](https://www.coursera.org/learn/python-data-analysis/resources/0dhYG) course resource._\n",
    "\n",
    "---"
   ]
  },
  {
   "cell_type": "markdown",
   "metadata": {},
   "source": [
    "# Assignment 2 - Pandas Introduction\n",
    "All questions are weighted the same in this assignment.\n",
    "## Part 1\n",
    "The following code loads the olympics dataset (olympics.csv), which was derrived from the Wikipedia entry on [All Time Olympic Games Medals](https://en.wikipedia.org/wiki/All-time_Olympic_Games_medal_table), and does some basic data cleaning. \n",
    "\n",
    "The columns are organized as # of Summer games, Summer medals, # of Winter games, Winter medals, total # number of games, total # of medals. Use this dataset to answer the questions below."
   ]
  },
  {
   "cell_type": "code",
   "execution_count": null,
   "metadata": {
    "collapsed": false,
    "nbgrader": {
     "grade": false,
     "grade_id": "1",
     "locked": false,
     "solution": false
    }
   },
   "outputs": [],
   "source": [
    "import pandas as pd\n",
    "\n",
    "df = pd.read_csv('olympics.csv', index_col=0, skiprows=1)\n",
    "\n",
    "for col in df.columns:\n",
    "    if col[:2]=='01':\n",
    "        df.rename(columns={col:'Gold'+col[4:]}, inplace=True)\n",
    "    if col[:2]=='02':\n",
    "        df.rename(columns={col:'Silver'+col[4:]}, inplace=True)\n",
    "    if col[:2]=='03':\n",
    "        df.rename(columns={col:'Bronze'+col[4:]}, inplace=True)\n",
    "    if col[:1]=='№':\n",
    "        df.rename(columns={col:'#'+col[1:]}, inplace=True)\n",
    "\n",
    "names_ids = df.index.str.split('\\s\\(') # split the index by '('\n",
    "\n",
    "df.index = names_ids.str[0] # the [0] element is the country name (new index) \n",
    "df['ID'] = names_ids.str[1].str[:3] # the [1] element is the abbreviation or ID (take first 3 characters from that)\n",
    "\n",
    "df = df.drop('Totals')\n",
    "df.head()"
   ]
  },
  {
   "cell_type": "markdown",
   "metadata": {},
   "source": [
    "### Question 0 (Example)\n",
    "\n",
    "What is the first country in df?\n",
    "\n",
    "*This function should return a Series.*"
   ]
  },
  {
   "cell_type": "code",
   "execution_count": null,
   "metadata": {
    "collapsed": false
   },
   "outputs": [],
   "source": [
    "# You should write your whole answer within the function provided. The autograder will call\n",
    "# this function and compare the return value against the correct solution value\n",
    "def answer_zero():\n",
    "    # This function returns the row for Afghanistan, which is a Series object. The assignment\n",
    "    # question description will tell you the general format the autograder is expecting\n",
    "    return df.iloc[0]\n",
    "\n",
    "# You can examine what your function returns by calling it in the cell. If you have questions\n",
    "# about the assignment formats, check out the discussion forums for any FAQs\n",
    "answer_zero() "
   ]
  },
  {
   "cell_type": "markdown",
   "metadata": {},
   "source": [
    "### Question 1\n",
    "Which country has won the most gold medals in summer games?\n",
    "\n",
    "*This function should return a single string value.*"
   ]
  },
  {
   "cell_type": "code",
   "execution_count": 35,
   "metadata": {
    "collapsed": false,
    "nbgrader": {
     "grade": false,
     "locked": false,
     "solution": false
    }
   },
   "outputs": [
    {
     "data": {
      "text/plain": [
       "'United States'"
      ]
     },
     "execution_count": 35,
     "metadata": {},
     "output_type": "execute_result"
    }
   ],
   "source": [
    "def read_olympics_data1():\n",
    "    import pandas as pd\n",
    "    df = pd.read_csv('olympics.csv', index_col=0, skiprows=1)\n",
    "\n",
    "    for col in df.columns:\n",
    "        if col[:2]=='01':\n",
    "            df.rename(columns={col:'Gold'+col[4:]}, inplace=True)\n",
    "        if col[:2]=='02':\n",
    "            df.rename(columns={col:'Silver'+col[4:]}, inplace=True)\n",
    "        if col[:2]=='03':\n",
    "            df.rename(columns={col:'Bronze'+col[4:]}, inplace=True)\n",
    "        if col[:1]=='№':\n",
    "            df.rename(columns={col:'#'+col[1:]}, inplace=True)\n",
    "\n",
    "    names_ids = df.index.str.split('\\s\\(') # split the index by '('\n",
    "\n",
    "    df.index = names_ids.str[0] # the [0] element is the country name (new index) \n",
    "    df['ID'] = names_ids.str[1].str[:3] # the [1] element is the abbreviation or ID (take first 3 characters from that)\n",
    "    df = df.drop('Totals')\n",
    "    \n",
    "    return df\n",
    "\n",
    "def answer_one():\n",
    "    df= read_olympics_data1()\n",
    "    max= df['Gold'].max()\n",
    "    #gold_summer =df[df.columns[1]]\n",
    "    gold_summer =df['Gold']\n",
    "    return gold_summer[gold_summer==max].index[0]\n",
    "\n",
    "answer_one()"
   ]
  },
  {
   "cell_type": "markdown",
   "metadata": {},
   "source": [
    "### Question 2\n",
    "Which country had the biggest difference between their summer and winter gold medal counts?\n",
    "\n",
    "*This function should return a single string value.*"
   ]
  },
  {
   "cell_type": "code",
   "execution_count": 34,
   "metadata": {
    "collapsed": false
   },
   "outputs": [
    {
     "data": {
      "text/plain": [
       "'United States'"
      ]
     },
     "execution_count": 34,
     "metadata": {},
     "output_type": "execute_result"
    }
   ],
   "source": [
    "def read_olympics_data2():\n",
    "    import pandas as pd\n",
    "    df = pd.read_csv('olympics.csv', index_col=0, skiprows=1)\n",
    "\n",
    "    for col in df.columns:\n",
    "        if col[:2]=='01':\n",
    "            df.rename(columns={col:'Gold'+col[4:]}, inplace=True)\n",
    "        if col[:2]=='02':\n",
    "            df.rename(columns={col:'Silver'+col[4:]}, inplace=True)\n",
    "        if col[:2]=='03':\n",
    "            df.rename(columns={col:'Bronze'+col[4:]}, inplace=True)\n",
    "        if col[:1]=='№':\n",
    "            df.rename(columns={col:'#'+col[1:]}, inplace=True)\n",
    "\n",
    "    names_ids = df.index.str.split('\\s\\(') # split the index by '('\n",
    "\n",
    "    df.index = names_ids.str[0] # the [0] element is the country name (new index) \n",
    "    df['ID'] = names_ids.str[1].str[:3] # the [1] element is the abbreviation or ID (take first 3 characters from that)\n",
    "    df = df.drop('Totals')\n",
    "    \n",
    "    return df\n",
    "\n",
    "def answer_two():\n",
    "\n",
    "    df=read_olympics_data2()\n",
    "\n",
    "    country_diff_max = diff_max =0\n",
    "\n",
    "    for country in df.index:\n",
    "        summer = df.loc[country]['Gold']\n",
    "        winter = df.loc[country]['Gold.1']\n",
    "        diff = summer - winter\n",
    "        if diff > diff_max:\n",
    "            diff_max = diff\n",
    "            country_diff_max = country\n",
    "\n",
    "    return country_diff_max\n",
    "\n",
    "answer_two()"
   ]
  },
  {
   "cell_type": "markdown",
   "metadata": {},
   "source": [
    "### Question 3\n",
    "Which country has the biggest difference between their summer gold medal counts and winter gold medal counts relative to their total gold medal count? \n",
    "\n",
    "$$\\frac{Summer~Gold - Winter~Gold}{Total~Gold}$$\n",
    "\n",
    "Only include countries that have won at least 1 gold in both summer and winter.\n",
    "\n",
    "*This function should return a single string value.*"
   ]
  },
  {
   "cell_type": "code",
   "execution_count": 33,
   "metadata": {
    "collapsed": false
   },
   "outputs": [
    {
     "data": {
      "text/plain": [
       "'Bulgaria'"
      ]
     },
     "execution_count": 33,
     "metadata": {},
     "output_type": "execute_result"
    }
   ],
   "source": [
    "def read_olympics_data3():\n",
    "    import pandas as pd\n",
    "    df = pd.read_csv('olympics.csv', index_col=0, skiprows=1)\n",
    "\n",
    "    for col in df.columns:\n",
    "        if col[:2]=='01':\n",
    "            df.rename(columns={col:'Gold'+col[4:]}, inplace=True)\n",
    "        if col[:2]=='02':\n",
    "            df.rename(columns={col:'Silver'+col[4:]}, inplace=True)\n",
    "        if col[:2]=='03':\n",
    "            df.rename(columns={col:'Bronze'+col[4:]}, inplace=True)\n",
    "        if col[:1]=='№':\n",
    "            df.rename(columns={col:'#'+col[1:]}, inplace=True)\n",
    "\n",
    "    names_ids = df.index.str.split('\\s\\(') # split the index by '('\n",
    "\n",
    "    df.index = names_ids.str[0] # the [0] element is the country name (new index) \n",
    "    df['ID'] = names_ids.str[1].str[:3] # the [1] element is the abbreviation or ID (take first 3 characters from that)\n",
    "    df = df.drop('Totals')\n",
    "    df = df[(df['Gold'] > 0) & (df['Gold.1'] > 0)]\n",
    "    \n",
    "    return df\n",
    "\n",
    "def answer_three():\n",
    "    \n",
    "    df=read_olympics_data3()\n",
    "    counrey_diff_max = diff_max =0\n",
    "\n",
    "    for country in df.index:\n",
    "        summer = df.loc[country]['Gold']\n",
    "        winter = df.loc[country]['Gold.1']\n",
    "        diff = (summer - winter)/(summer + winter)\n",
    "        if diff > diff_max:\n",
    "            diff_max = diff\n",
    "            country_diff_max = country\n",
    "\n",
    "    return country_diff_max    \n",
    "\n",
    "answer_three()"
   ]
  },
  {
   "cell_type": "markdown",
   "metadata": {},
   "source": [
    "### Question 4\n",
    "Write a function that creates a Series called \"Points\" which is a weighted value where each gold medal (`Gold.2`) counts for 3 points, silver medals (`Silver.2`) for 2 points, and bronze medals (`Bronze.2`) for 1 point. The function should return only the column (a Series object) which you created.\n",
    "\n",
    "*This function should return a Series named `Points` of length 146*"
   ]
  },
  {
   "cell_type": "code",
   "execution_count": 32,
   "metadata": {
    "collapsed": false
   },
   "outputs": [
    {
     "data": {
      "text/plain": [
       "Afghanistan                            2\n",
       "Algeria                               27\n",
       "Argentina                            130\n",
       "Armenia                               16\n",
       "Australasia                           22\n",
       "Australia                            923\n",
       "Austria                              569\n",
       "Azerbaijan                            43\n",
       "Bahamas                               24\n",
       "Bahrain                                1\n",
       "Barbados                               1\n",
       "Belarus                              154\n",
       "Belgium                              276\n",
       "Bermuda                                1\n",
       "Bohemia                                5\n",
       "Botswana                               2\n",
       "Brazil                               184\n",
       "British West Indies                    2\n",
       "Bulgaria                             411\n",
       "Burundi                                3\n",
       "Cameroon                              12\n",
       "Canada                               846\n",
       "Chile                                 24\n",
       "China                               1120\n",
       "Colombia                              29\n",
       "Costa Rica                             7\n",
       "Ivory Coast                            2\n",
       "Croatia                               67\n",
       "Cuba                                 420\n",
       "Cyprus                                 2\n",
       "                                    ... \n",
       "Spain                                268\n",
       "Sri Lanka                              4\n",
       "Sudan                                  2\n",
       "Suriname                               4\n",
       "Sweden                              1217\n",
       "Switzerland                          630\n",
       "Syria                                  6\n",
       "Chinese Taipei                        32\n",
       "Tajikistan                             4\n",
       "Tanzania                               4\n",
       "Thailand                              44\n",
       "Togo                                   1\n",
       "Tonga                                  2\n",
       "Trinidad and Tobago                   27\n",
       "Tunisia                               19\n",
       "Turkey                               191\n",
       "Uganda                                14\n",
       "Ukraine                              220\n",
       "United Arab Emirates                   3\n",
       "United States                       5684\n",
       "Uruguay                               16\n",
       "Uzbekistan                            38\n",
       "Venezuela                             18\n",
       "Vietnam                                4\n",
       "Virgin Islands                         2\n",
       "Yugoslavia                           171\n",
       "Independent Olympic Participants       4\n",
       "Zambia                                 3\n",
       "Zimbabwe                              18\n",
       "Mixed team                            38\n",
       "Name: Points, dtype: int64"
      ]
     },
     "execution_count": 32,
     "metadata": {},
     "output_type": "execute_result"
    }
   ],
   "source": [
    "def read_olympics_data4():\n",
    "    import pandas as pd\n",
    "    df = pd.read_csv('olympics.csv', index_col=0, skiprows=1)\n",
    "\n",
    "    for col in df.columns:\n",
    "        if col[:2]=='01':\n",
    "            df.rename(columns={col:'Gold'+col[4:]}, inplace=True)\n",
    "        if col[:2]=='02':\n",
    "            df.rename(columns={col:'Silver'+col[4:]}, inplace=True)\n",
    "        if col[:2]=='03':\n",
    "            df.rename(columns={col:'Bronze'+col[4:]}, inplace=True)\n",
    "        if col[:1]=='№':\n",
    "            df.rename(columns={col:'#'+col[1:]}, inplace=True)\n",
    "\n",
    "    names_ids = df.index.str.split('\\s\\(') # split the index by '('\n",
    "\n",
    "    df.index = names_ids.str[0] # the [0] element is the country name (new index) \n",
    "    df['ID'] = names_ids.str[1].str[:3] # the [1] element is the abbreviation or ID (take first 3 characters from that)\n",
    "    df = df.drop('Totals')\n",
    "    \n",
    "    return df\n",
    "\n",
    "\n",
    "def answer_four():\n",
    "    df=read_olympics_data4()\n",
    "    \n",
    "    df['Points'] = df['Gold.2']*3 + df['Silver.2']*2 +df['Bronze.2'] \n",
    "\n",
    "    return df['Points']\n",
    "\n",
    "answer_four()"
   ]
  },
  {
   "cell_type": "markdown",
   "metadata": {},
   "source": [
    "## Part 2\n",
    "For the next set of questions, we will be using census data from the [United States Census Bureau](http://www.census.gov/popest/data/counties/totals/2015/CO-EST2015-alldata.html). Counties are political and geographic subdivisions of states in the United States. This dataset contains population data for counties and states in the US from 2010 to 2015. [See this document](http://www.census.gov/popest/data/counties/totals/2015/files/CO-EST2015-alldata.pdf) for a description of the variable names.\n",
    "\n",
    "The census dataset (census.csv) should be loaded as census_df. Answer questions using this as appropriate.\n",
    "\n",
    "### Question 5\n",
    "Which state has the most counties in it? (hint: consider the sumlevel key carefully! You'll need this for future questions too...)\n",
    "\n",
    "*This function should return a single string value.*"
   ]
  },
  {
   "cell_type": "code",
   "execution_count": 18,
   "metadata": {
    "collapsed": false
   },
   "outputs": [
    {
     "data": {
      "text/html": [
       "<div>\n",
       "<table border=\"1\" class=\"dataframe\">\n",
       "  <thead>\n",
       "    <tr style=\"text-align: right;\">\n",
       "      <th></th>\n",
       "      <th>SUMLEV</th>\n",
       "      <th>REGION</th>\n",
       "      <th>DIVISION</th>\n",
       "      <th>STATE</th>\n",
       "      <th>COUNTY</th>\n",
       "      <th>STNAME</th>\n",
       "      <th>CTYNAME</th>\n",
       "      <th>CENSUS2010POP</th>\n",
       "      <th>ESTIMATESBASE2010</th>\n",
       "      <th>POPESTIMATE2010</th>\n",
       "      <th>...</th>\n",
       "      <th>RDOMESTICMIG2011</th>\n",
       "      <th>RDOMESTICMIG2012</th>\n",
       "      <th>RDOMESTICMIG2013</th>\n",
       "      <th>RDOMESTICMIG2014</th>\n",
       "      <th>RDOMESTICMIG2015</th>\n",
       "      <th>RNETMIG2011</th>\n",
       "      <th>RNETMIG2012</th>\n",
       "      <th>RNETMIG2013</th>\n",
       "      <th>RNETMIG2014</th>\n",
       "      <th>RNETMIG2015</th>\n",
       "    </tr>\n",
       "  </thead>\n",
       "  <tbody>\n",
       "    <tr>\n",
       "      <th>0</th>\n",
       "      <td>40</td>\n",
       "      <td>3</td>\n",
       "      <td>6</td>\n",
       "      <td>1</td>\n",
       "      <td>0</td>\n",
       "      <td>Alabama</td>\n",
       "      <td>Alabama</td>\n",
       "      <td>4779736</td>\n",
       "      <td>4780127</td>\n",
       "      <td>4785161</td>\n",
       "      <td>...</td>\n",
       "      <td>0.002295</td>\n",
       "      <td>-0.193196</td>\n",
       "      <td>0.381066</td>\n",
       "      <td>0.582002</td>\n",
       "      <td>-0.467369</td>\n",
       "      <td>1.030015</td>\n",
       "      <td>0.826644</td>\n",
       "      <td>1.383282</td>\n",
       "      <td>1.724718</td>\n",
       "      <td>0.712594</td>\n",
       "    </tr>\n",
       "    <tr>\n",
       "      <th>1</th>\n",
       "      <td>50</td>\n",
       "      <td>3</td>\n",
       "      <td>6</td>\n",
       "      <td>1</td>\n",
       "      <td>1</td>\n",
       "      <td>Alabama</td>\n",
       "      <td>Autauga County</td>\n",
       "      <td>54571</td>\n",
       "      <td>54571</td>\n",
       "      <td>54660</td>\n",
       "      <td>...</td>\n",
       "      <td>7.242091</td>\n",
       "      <td>-2.915927</td>\n",
       "      <td>-3.012349</td>\n",
       "      <td>2.265971</td>\n",
       "      <td>-2.530799</td>\n",
       "      <td>7.606016</td>\n",
       "      <td>-2.626146</td>\n",
       "      <td>-2.722002</td>\n",
       "      <td>2.592270</td>\n",
       "      <td>-2.187333</td>\n",
       "    </tr>\n",
       "    <tr>\n",
       "      <th>2</th>\n",
       "      <td>50</td>\n",
       "      <td>3</td>\n",
       "      <td>6</td>\n",
       "      <td>1</td>\n",
       "      <td>3</td>\n",
       "      <td>Alabama</td>\n",
       "      <td>Baldwin County</td>\n",
       "      <td>182265</td>\n",
       "      <td>182265</td>\n",
       "      <td>183193</td>\n",
       "      <td>...</td>\n",
       "      <td>14.832960</td>\n",
       "      <td>17.647293</td>\n",
       "      <td>21.845705</td>\n",
       "      <td>19.243287</td>\n",
       "      <td>17.197872</td>\n",
       "      <td>15.844176</td>\n",
       "      <td>18.559627</td>\n",
       "      <td>22.727626</td>\n",
       "      <td>20.317142</td>\n",
       "      <td>18.293499</td>\n",
       "    </tr>\n",
       "    <tr>\n",
       "      <th>3</th>\n",
       "      <td>50</td>\n",
       "      <td>3</td>\n",
       "      <td>6</td>\n",
       "      <td>1</td>\n",
       "      <td>5</td>\n",
       "      <td>Alabama</td>\n",
       "      <td>Barbour County</td>\n",
       "      <td>27457</td>\n",
       "      <td>27457</td>\n",
       "      <td>27341</td>\n",
       "      <td>...</td>\n",
       "      <td>-4.728132</td>\n",
       "      <td>-2.500690</td>\n",
       "      <td>-7.056824</td>\n",
       "      <td>-3.904217</td>\n",
       "      <td>-10.543299</td>\n",
       "      <td>-4.874741</td>\n",
       "      <td>-2.758113</td>\n",
       "      <td>-7.167664</td>\n",
       "      <td>-3.978583</td>\n",
       "      <td>-10.543299</td>\n",
       "    </tr>\n",
       "    <tr>\n",
       "      <th>4</th>\n",
       "      <td>50</td>\n",
       "      <td>3</td>\n",
       "      <td>6</td>\n",
       "      <td>1</td>\n",
       "      <td>7</td>\n",
       "      <td>Alabama</td>\n",
       "      <td>Bibb County</td>\n",
       "      <td>22915</td>\n",
       "      <td>22919</td>\n",
       "      <td>22861</td>\n",
       "      <td>...</td>\n",
       "      <td>-5.527043</td>\n",
       "      <td>-5.068871</td>\n",
       "      <td>-6.201001</td>\n",
       "      <td>-0.177537</td>\n",
       "      <td>0.177258</td>\n",
       "      <td>-5.088389</td>\n",
       "      <td>-4.363636</td>\n",
       "      <td>-5.403729</td>\n",
       "      <td>0.754533</td>\n",
       "      <td>1.107861</td>\n",
       "    </tr>\n",
       "  </tbody>\n",
       "</table>\n",
       "<p>5 rows × 100 columns</p>\n",
       "</div>"
      ],
      "text/plain": [
       "   SUMLEV  REGION  DIVISION  STATE  COUNTY   STNAME         CTYNAME  \\\n",
       "0      40       3         6      1       0  Alabama         Alabama   \n",
       "1      50       3         6      1       1  Alabama  Autauga County   \n",
       "2      50       3         6      1       3  Alabama  Baldwin County   \n",
       "3      50       3         6      1       5  Alabama  Barbour County   \n",
       "4      50       3         6      1       7  Alabama     Bibb County   \n",
       "\n",
       "   CENSUS2010POP  ESTIMATESBASE2010  POPESTIMATE2010     ...       \\\n",
       "0        4779736            4780127          4785161     ...        \n",
       "1          54571              54571            54660     ...        \n",
       "2         182265             182265           183193     ...        \n",
       "3          27457              27457            27341     ...        \n",
       "4          22915              22919            22861     ...        \n",
       "\n",
       "   RDOMESTICMIG2011  RDOMESTICMIG2012  RDOMESTICMIG2013  RDOMESTICMIG2014  \\\n",
       "0          0.002295         -0.193196          0.381066          0.582002   \n",
       "1          7.242091         -2.915927         -3.012349          2.265971   \n",
       "2         14.832960         17.647293         21.845705         19.243287   \n",
       "3         -4.728132         -2.500690         -7.056824         -3.904217   \n",
       "4         -5.527043         -5.068871         -6.201001         -0.177537   \n",
       "\n",
       "   RDOMESTICMIG2015  RNETMIG2011  RNETMIG2012  RNETMIG2013  RNETMIG2014  \\\n",
       "0         -0.467369     1.030015     0.826644     1.383282     1.724718   \n",
       "1         -2.530799     7.606016    -2.626146    -2.722002     2.592270   \n",
       "2         17.197872    15.844176    18.559627    22.727626    20.317142   \n",
       "3        -10.543299    -4.874741    -2.758113    -7.167664    -3.978583   \n",
       "4          0.177258    -5.088389    -4.363636    -5.403729     0.754533   \n",
       "\n",
       "   RNETMIG2015  \n",
       "0     0.712594  \n",
       "1    -2.187333  \n",
       "2    18.293499  \n",
       "3   -10.543299  \n",
       "4     1.107861  \n",
       "\n",
       "[5 rows x 100 columns]"
      ]
     },
     "execution_count": 18,
     "metadata": {},
     "output_type": "execute_result"
    }
   ],
   "source": [
    "import pandas as pd\n",
    "\n",
    "census_df = pd.read_csv('census.csv')\n",
    "census_df.head()"
   ]
  },
  {
   "cell_type": "code",
   "execution_count": 19,
   "metadata": {
    "collapsed": false
   },
   "outputs": [
    {
     "data": {
      "text/plain": [
       "'Texas'"
      ]
     },
     "execution_count": 19,
     "metadata": {},
     "output_type": "execute_result"
    }
   ],
   "source": [
    "def read_census_data1():\n",
    "    import pandas as pd\n",
    "    df1 = pd.read_csv('census.csv')\n",
    "    df1 = df1[df1[\"SUMLEV\"] == 50]\n",
    "    col_to_keep = ['COUNTY','STNAME','CTYNAME']\n",
    "    df1 = df1[col_to_keep]\n",
    "    return df1\n",
    "\n",
    "def answer_five():\n",
    "    df2=read_census_data1()\n",
    "    #max_n_county=0\n",
    "\n",
    "    \n",
    "    df2 = df2.groupby('STNAME').size().sort_values(ascending=False).head(1)\n",
    "    \n",
    "    \n",
    "    #for i in df2.index:\n",
    "    #    n_county = df2.loc[i]['COUNTY']\n",
    "    #    state = df2.loc[i]['STNAME']\n",
    "    #    if n_county > max_n_county:\n",
    "    #        max_n_county = n_county\n",
    "    #        max_n_county_state = state    \n",
    "\n",
    "    #df_1=df.sort_values(['STNAME','COUNTY'],ascending=[True,False]).groupby(['STNAME']).head(1).sort_values('COUNTY',ascending=False).head(1)\n",
    "    #df_1['state']= df_1.index\n",
    "    #df_1.iloc[0]['state']\n",
    "            \n",
    "    #return max_n_county_state\n",
    "    return df2.index[0]\n",
    "\n",
    "answer_five()"
   ]
  },
  {
   "cell_type": "markdown",
   "metadata": {},
   "source": [
    "### Question 6\n",
    "Only looking at the three most populous counties for each state, what are the three most populous states (in order of highest population to lowest population)? Use `CENSUS2010POP`.\n",
    "\n",
    "*This function should return a list of string values.*"
   ]
  },
  {
   "cell_type": "code",
   "execution_count": 29,
   "metadata": {
    "collapsed": false
   },
   "outputs": [
    {
     "data": {
      "text/plain": [
       "['California', 'Texas', 'Illinois']"
      ]
     },
     "execution_count": 29,
     "metadata": {},
     "output_type": "execute_result"
    }
   ],
   "source": [
    "def read_census_data2():\n",
    "    import pandas as pd\n",
    "    df = pd.read_csv('census.csv')\n",
    "    df = df[df[\"SUMLEV\"] == 50]\n",
    "    col_to_keep = ['STNAME','CTYNAME','CENSUS2010POP']\n",
    "    df = df[col_to_keep]\n",
    "    return df\n",
    "\n",
    "\n",
    "def answer_six():\n",
    "    df=read_census_data2()\n",
    "\n",
    "    #sorting df by state (ascending) and by population (descending) using sort_values\n",
    "    df_sorted = df.sort_values(['STNAME','CENSUS2010POP'],ascending=[True,False])\n",
    "    \n",
    "    #grouping by state using groupby (this returns a GroupBy object) and selecting the first 3 counties using head(3)\n",
    "    df_sorted_grouped = df_sorted.groupby(['STNAME']).head(3)\n",
    "    #df_sorted_grouped is a dataframe object\n",
    "    \n",
    "    #getting a series containing the states and the total population of the 3 most populated counties\n",
    "    s_state_pop = df_sorted_grouped.groupby(['STNAME'])['CENSUS2010POP'].sum()\n",
    "    \n",
    "    #Sorting in descending way and taking the 3 most populated with head(3)\n",
    "    s_state_most_pop = s_state_pop.sort_values(ascending=False).head(3)\n",
    "    \n",
    "    #creating a list\n",
    "    l = list(s_state_most_pop.index)\n",
    "    \n",
    "    return l\n",
    "    \n",
    "answer_six()"
   ]
  },
  {
   "cell_type": "markdown",
   "metadata": {},
   "source": [
    "### Question 7\n",
    "Which county has had the largest absolute change in population within the period 2010-2015? (Hint: population values are stored in columns POPESTIMATE2010 through POPESTIMATE2015, you need to consider all six columns.)\n",
    "\n",
    "e.g. If County Population in the 5 year period is 100, 120, 80, 105, 100, 130, then its largest change in the period would be |130-80| = 50.\n",
    "\n",
    "*This function should return a single string value.*"
   ]
  },
  {
   "cell_type": "code",
   "execution_count": 41,
   "metadata": {
    "collapsed": false
   },
   "outputs": [
    {
     "data": {
      "text/plain": [
       "'Harris County'"
      ]
     },
     "execution_count": 41,
     "metadata": {},
     "output_type": "execute_result"
    }
   ],
   "source": [
    "def read_census_data3():\n",
    "    import pandas as pd\n",
    "    df = pd.read_csv('census.csv')\n",
    "    df = df[df[\"SUMLEV\"] == 50]\n",
    "    col_to_keep = ['CTYNAME','POPESTIMATE2010','POPESTIMATE2011','POPESTIMATE2012','POPESTIMATE2013','POPESTIMATE2014','POPESTIMATE2015']\n",
    "    df = df[col_to_keep]\n",
    "    return df\n",
    "\n",
    "def answer_seven():\n",
    "    df = read_census_data3()\n",
    "    \n",
    "    #create (broadcast) a new column called 'Pop Channge'\n",
    "    df['Pop Change'] = None\n",
    "    \n",
    "    #set index for the county\n",
    "    #df= df.set_index('CTYNAME')\n",
    "    \n",
    "    #computing the pop change by getting the max and the min of the columns\n",
    "    df['Pop Change'] = df.max(axis=1) - df.min(axis=1)\n",
    "     \n",
    "    #getting the maximum pop change of all counties     \n",
    "    max_value = df['Pop Change'].max(axis=0)\n",
    "     \n",
    "    #applying a mask with the max_value to get a single row\n",
    "    df_masked = df[df['Pop Change'] == max_value]\n",
    "    \n",
    "    #reset the index\n",
    "    df_masked = df_masked.reset_index()\n",
    "    \n",
    "    #getting the string\n",
    "    county = df_masked.iloc[0]['CTYNAME']\n",
    "    \n",
    "    return county\n",
    "\n",
    "answer_seven()"
   ]
  },
  {
   "cell_type": "markdown",
   "metadata": {},
   "source": [
    "### Question 8\n",
    "In this datafile, the United States is broken up into four regions using the \"REGION\" column. \n",
    "\n",
    "Create a query that finds the counties that belong to regions 1 or 2, whose name starts with 'Washington', and whose POPESTIMATE2015 was greater than their POPESTIMATE 2014.\n",
    "\n",
    "*This function should return a 5x2 DataFrame with the columns = ['STNAME', 'CTYNAME'] and the same index ID as the census_df (sorted ascending by index).*"
   ]
  },
  {
   "cell_type": "code",
   "execution_count": 27,
   "metadata": {
    "collapsed": false
   },
   "outputs": [
    {
     "data": {
      "text/html": [
       "<div>\n",
       "<table border=\"1\" class=\"dataframe\">\n",
       "  <thead>\n",
       "    <tr style=\"text-align: right;\">\n",
       "      <th></th>\n",
       "      <th>STNAME</th>\n",
       "      <th>CTYNAME</th>\n",
       "    </tr>\n",
       "  </thead>\n",
       "  <tbody>\n",
       "    <tr>\n",
       "      <th>896</th>\n",
       "      <td>Iowa</td>\n",
       "      <td>Washington County</td>\n",
       "    </tr>\n",
       "    <tr>\n",
       "      <th>1419</th>\n",
       "      <td>Minnesota</td>\n",
       "      <td>Washington County</td>\n",
       "    </tr>\n",
       "    <tr>\n",
       "      <th>2345</th>\n",
       "      <td>Pennsylvania</td>\n",
       "      <td>Washington County</td>\n",
       "    </tr>\n",
       "    <tr>\n",
       "      <th>2355</th>\n",
       "      <td>Rhode Island</td>\n",
       "      <td>Washington County</td>\n",
       "    </tr>\n",
       "    <tr>\n",
       "      <th>3163</th>\n",
       "      <td>Wisconsin</td>\n",
       "      <td>Washington County</td>\n",
       "    </tr>\n",
       "  </tbody>\n",
       "</table>\n",
       "</div>"
      ],
      "text/plain": [
       "            STNAME            CTYNAME\n",
       "896           Iowa  Washington County\n",
       "1419     Minnesota  Washington County\n",
       "2345  Pennsylvania  Washington County\n",
       "2355  Rhode Island  Washington County\n",
       "3163     Wisconsin  Washington County"
      ]
     },
     "execution_count": 27,
     "metadata": {},
     "output_type": "execute_result"
    }
   ],
   "source": [
    "def read_census_data4():\n",
    "    import pandas as pd\n",
    "    df = pd.read_csv('census.csv')\n",
    "    df = df[df[\"SUMLEV\"] == 50]\n",
    "    col_to_keep = ['STNAME','CTYNAME','REGION','POPESTIMATE2014','POPESTIMATE2015']\n",
    "    df = df[col_to_keep]\n",
    "    return df\n",
    "\n",
    "def answer_eight():\n",
    "    df = read_census_data4()\n",
    "    \n",
    "    #the conditions\n",
    "    df_new = df[(df['REGION']<3) & (df['CTYNAME'].str.startswith('Washington')) & (df['POPESTIMATE2015'] > df['POPESTIMATE2014'])]\n",
    "    \n",
    "    #selecting only state and county columns\n",
    "    df_new = df_new[['STNAME','CTYNAME']]\n",
    "    \n",
    "    return df_new\n",
    "\n",
    "answer_eight()"
   ]
  },
  {
   "cell_type": "code",
   "execution_count": null,
   "metadata": {
    "collapsed": true
   },
   "outputs": [],
   "source": []
  }
 ],
 "metadata": {
  "anaconda-cloud": {},
  "coursera": {
   "course_slug": "python-data-analysis",
   "graded_item_id": "tHmgx",
   "launcher_item_id": "Um6Bz",
   "part_id": "OQsnr"
  },
  "kernelspec": {
   "display_name": "Python [default]",
   "language": "python",
   "name": "python3"
  },
  "language_info": {
   "codemirror_mode": {
    "name": "ipython",
    "version": 3
   },
   "file_extension": ".py",
   "mimetype": "text/x-python",
   "name": "python",
   "nbconvert_exporter": "python",
   "pygments_lexer": "ipython3",
   "version": "3.5.2"
  }
 },
 "nbformat": 4,
 "nbformat_minor": 0
}
